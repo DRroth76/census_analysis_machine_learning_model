{
 "cells": [
  {
   "cell_type": "code",
   "execution_count": 281,
   "metadata": {},
   "outputs": [],
   "source": [
    "import pandas as pd\n",
    "from sklearn.model_selection import train_test_split\n",
    "from sklearn.ensemble import RandomForestRegressor\n",
    "from sklearn.metrics import mean_squared_error\n",
    "import os"
   ]
  },
  {
   "cell_type": "code",
   "execution_count": 282,
   "metadata": {},
   "outputs": [
    {
     "data": {
      "text/html": [
       "<div>\n",
       "<style scoped>\n",
       "    .dataframe tbody tr th:only-of-type {\n",
       "        vertical-align: middle;\n",
       "    }\n",
       "\n",
       "    .dataframe tbody tr th {\n",
       "        vertical-align: top;\n",
       "    }\n",
       "\n",
       "    .dataframe thead th {\n",
       "        text-align: right;\n",
       "    }\n",
       "</style>\n",
       "<table border=\"1\" class=\"dataframe\">\n",
       "  <thead>\n",
       "    <tr style=\"text-align: right;\">\n",
       "      <th></th>\n",
       "      <th>NAME</th>\n",
       "      <th>Income</th>\n",
       "      <th>state</th>\n",
       "      <th>place</th>\n",
       "      <th>Industry</th>\n",
       "      <th>Year</th>\n",
       "      <th>Sex</th>\n",
       "    </tr>\n",
       "  </thead>\n",
       "  <tbody>\n",
       "    <tr>\n",
       "      <th>0</th>\n",
       "      <td>Missouri City city, Texas</td>\n",
       "      <td>156105</td>\n",
       "      <td>48</td>\n",
       "      <td>48804</td>\n",
       "      <td>Agriculture, forestry, fishing and hunting, an...</td>\n",
       "      <td>2014</td>\n",
       "      <td>Male</td>\n",
       "    </tr>\n",
       "    <tr>\n",
       "      <th>1</th>\n",
       "      <td>League City city, Texas</td>\n",
       "      <td>152357</td>\n",
       "      <td>48</td>\n",
       "      <td>41980</td>\n",
       "      <td>Agriculture, forestry, fishing and hunting, an...</td>\n",
       "      <td>2014</td>\n",
       "      <td>Male</td>\n",
       "    </tr>\n",
       "    <tr>\n",
       "      <th>2</th>\n",
       "      <td>Tracy city, California</td>\n",
       "      <td>150026</td>\n",
       "      <td>6</td>\n",
       "      <td>80238</td>\n",
       "      <td>Agriculture, forestry, fishing and hunting, an...</td>\n",
       "      <td>2014</td>\n",
       "      <td>Male</td>\n",
       "    </tr>\n",
       "    <tr>\n",
       "      <th>3</th>\n",
       "      <td>Fall River city, Massachusetts</td>\n",
       "      <td>145450</td>\n",
       "      <td>25</td>\n",
       "      <td>23000</td>\n",
       "      <td>Agriculture, forestry, fishing and hunting, an...</td>\n",
       "      <td>2014</td>\n",
       "      <td>Male</td>\n",
       "    </tr>\n",
       "    <tr>\n",
       "      <th>4</th>\n",
       "      <td>Peoria city, Arizona</td>\n",
       "      <td>126689</td>\n",
       "      <td>4</td>\n",
       "      <td>54050</td>\n",
       "      <td>Agriculture, forestry, fishing and hunting, an...</td>\n",
       "      <td>2014</td>\n",
       "      <td>Male</td>\n",
       "    </tr>\n",
       "  </tbody>\n",
       "</table>\n",
       "</div>"
      ],
      "text/plain": [
       "                             NAME  Income  state  place  \\\n",
       "0       Missouri City city, Texas  156105     48  48804   \n",
       "1         League City city, Texas  152357     48  41980   \n",
       "2          Tracy city, California  150026      6  80238   \n",
       "3  Fall River city, Massachusetts  145450     25  23000   \n",
       "4            Peoria city, Arizona  126689      4  54050   \n",
       "\n",
       "                                            Industry  Year   Sex  \n",
       "0  Agriculture, forestry, fishing and hunting, an...  2014  Male  \n",
       "1  Agriculture, forestry, fishing and hunting, an...  2014  Male  \n",
       "2  Agriculture, forestry, fishing and hunting, an...  2014  Male  \n",
       "3  Agriculture, forestry, fishing and hunting, an...  2014  Male  \n",
       "4  Agriculture, forestry, fishing and hunting, an...  2014  Male  "
      ]
     },
     "execution_count": 282,
     "metadata": {},
     "output_type": "execute_result"
    }
   ],
   "source": [
    "# Read the sales data\n",
    "file_path = r\"full_income_data.csv\"\n",
    "df_income = pd.read_csv(file_path)\n",
    "\n",
    "# Display sample data\n",
    "df_income.head()"
   ]
  },
  {
   "cell_type": "code",
   "execution_count": 287,
   "metadata": {},
   "outputs": [
    {
     "name": "stdout",
     "output_type": "stream",
     "text": [
      "Mean Squared Error: 512887155.23218334\n",
      "R-squared: 0.2783271022133075\n"
     ]
    }
   ],
   "source": [
    "#predicting only using Industry\n",
    "y = df_income['Income']\n",
    "X = df_income.drop(columns=['Income', 'state', 'NAME', 'place', 'Year', 'Sex'], axis=1)\n",
    "X = pd.get_dummies(X)\n",
    "X_train, X_test, y_train, y_test = train_test_split(X, y, test_size=0.2, random_state=42)\n",
    "model = LinearRegression()\n",
    "model.fit(X_train, y_train)\n",
    "y_pred = model.predict(X_test)\n",
    "mse = mean_squared_error(y_test, y_pred)\n",
    "r2 = r2_score(y_test, y_pred)\n",
    "print(f\"Mean Squared Error: {mse}\")\n",
    "print(f\"R-squared: {r2}\")\n"
   ]
  },
  {
   "cell_type": "code",
   "execution_count": 288,
   "metadata": {},
   "outputs": [
    {
     "name": "stdout",
     "output_type": "stream",
     "text": [
      "Mean Squared Error: 478018579.2955663\n",
      "R-squared: 0.32738995352702804\n"
     ]
    }
   ],
   "source": [
    "#predicting industry and sex\n",
    "y = df_income['Income']\n",
    "X = df_income.drop(columns=['Income', 'state', 'NAME', 'place', 'Year'], axis=1)\n",
    "X = pd.get_dummies(X)\n",
    "X_train, X_test, y_train, y_test = train_test_split(X, y, test_size=0.2, random_state=42)\n",
    "model = LinearRegression()\n",
    "model.fit(X_train, y_train)\n",
    "y_pred = model.predict(X_test)\n",
    "mse = mean_squared_error(y_test, y_pred)\n",
    "r2 = r2_score(y_test, y_pred)\n",
    "print(f\"Mean Squared Error: {mse}\")\n",
    "print(f\"R-squared: {r2}\")"
   ]
  },
  {
   "cell_type": "code",
   "execution_count": 289,
   "metadata": {},
   "outputs": [
    {
     "name": "stdout",
     "output_type": "stream",
     "text": [
      "Mean Squared Error: 473882522.7528088\n",
      "R-squared: 0.33320971305925917\n"
     ]
    }
   ],
   "source": [
    "#predicting industry, sex, and state\n",
    "y = df_income['Income']\n",
    "X = df_income.drop(columns=['Income', 'NAME', 'place', 'Year'], axis=1)\n",
    "X = pd.get_dummies(X)\n",
    "X_train, X_test, y_train, y_test = train_test_split(X, y, test_size=0.2, random_state=42)\n",
    "model = LinearRegression()\n",
    "model.fit(X_train, y_train)\n",
    "y_pred = model.predict(X_test)\n",
    "mse = mean_squared_error(y_test, y_pred)\n",
    "r2 = r2_score(y_test, y_pred)\n",
    "print(f\"Mean Squared Error: {mse}\")\n",
    "print(f\"R-squared: {r2}\")"
   ]
  }
 ],
 "metadata": {
  "kernelspec": {
   "display_name": "base",
   "language": "python",
   "name": "python3"
  },
  "language_info": {
   "codemirror_mode": {
    "name": "ipython",
    "version": 3
   },
   "file_extension": ".py",
   "mimetype": "text/x-python",
   "name": "python",
   "nbconvert_exporter": "python",
   "pygments_lexer": "ipython3",
   "version": "3.11.5"
  }
 },
 "nbformat": 4,
 "nbformat_minor": 2
}
