{
 "cells": [
  {
   "cell_type": "code",
   "execution_count": null,
   "metadata": {},
   "outputs": [],
   "source": [
    "import requests\n",
    "import pandas as pd\n",
    "import os\n",
    "from api_key import census_api"
   ]
  },
  {
   "cell_type": "code",
   "execution_count": null,
   "metadata": {},
   "outputs": [],
   "source": [
    "industry_worker_type = pd.DataFrame()"
   ]
  },
  {
   "cell_type": "code",
   "execution_count": null,
   "metadata": {},
   "outputs": [],
   "source": [
    "worker_type_list = ['Employee of private company workers', 'Self-employed in own incorporated business workers','Private not-for-profit wage and salary workers', \n",
    "                    'Local, state, and federal government workers', 'Self-employed in own not incorporated business workers and unpaid family workers']"
   ]
  },
  {
   "cell_type": "code",
   "execution_count": null,
   "metadata": {},
   "outputs": [],
   "source": [
    "indices_to_skip = [55, 82, 109, 136]"
   ]
  },
  {
   "cell_type": "code",
   "execution_count": 5,
   "metadata": {},
   "outputs": [
    {
     "name": "stdout",
     "output_type": "stream",
     "text": [
      "Fetching data for  Employee of private company workers...\n",
      "Fetching data for year 2014...\n",
      "Error fetching data for number of works by worker type Employee of private company workers: 'Total Households'\n",
      "Fetching data for  Self-employed in own incorporated business workers...\n",
      "Fetching data for year 2014...\n",
      "Error fetching data for number of works by worker type Self-employed in own incorporated business workers: 'Total Households'\n",
      "Fetching data for  Private not-for-profit wage and salary workers...\n",
      "Fetching data for year 2014...\n",
      "Error fetching data for number of works by worker type Private not-for-profit wage and salary workers: 'Total Households'\n",
      "Fetching data for  Local, state, and federal government workers...\n",
      "Fetching data for year 2014...\n",
      "Error fetching data for number of works by worker type Local, state, and federal government workers: 'Total Households'\n",
      "Fetching data for  Self-employed in own not incorporated business workers and unpaid family workers...\n",
      "Fetching data for year 2014...\n"
     ]
    },
    {
     "ename": "",
     "evalue": "",
     "output_type": "error",
     "traceback": [
      "\u001b[1;31mThe Kernel crashed while executing code in the current cell or a previous cell. \n",
      "\u001b[1;31mPlease review the code in the cell(s) to identify a possible cause of the failure. \n",
      "\u001b[1;31mClick <a href='https://aka.ms/vscodeJupyterKernelCrash'>here</a> for more info. \n",
      "\u001b[1;31mView Jupyter <a href='command:jupyter.viewOutput'>log</a> for further details."
     ]
    }
   ],
   "source": [
    "for worker_index in range(len(worker_type_list)):\n",
    "    if worker_index in indices_to_skip:\n",
    "        continue\n",
    "\n",
    "    for skip_index in indices_to_skip:\n",
    "        if worker_index >= skip_index:\n",
    "            worker_index += 1\n",
    "    \n",
    "    worker_int = str(worker_index + 29).zfill(2)  \n",
    "    try:\n",
    "        worker_data = pd.DataFrame()  \n",
    "        print(f\"Fetching data for  {worker_type_list[worker_index]}...\")\n",
    "        for year in range(2014, 2023):\n",
    "            print(f\"Fetching data for year {year}...\")\n",
    "            url = f'https://api.census.gov/data/{year}/acs/acs1?get=NAME,B24070_0{worker_int}E&for=place:*&key={census_api}'\n",
    "            response = requests.get(url)\n",
    "            if response.status_code == 200:\n",
    "                json_response = response.json()\n",
    "                data = pd.DataFrame(json_response[1:], columns=json_response[0])\n",
    "                data = data.rename(columns={f'B24070_0{worker_int}E': 'Worker Count'})\n",
    "                data = data.dropna()\n",
    "                data = data.loc[data['Worker Count'] != '0']\n",
    "                data['Class of Worker'] = worker_type_list[worker_index]\n",
    "                data['Worker Count'] = data['Worker Count'].astype(int)\n",
    "                data = data.sort_values('Worker Count', ascending=False)\n",
    "                data['Year'] = str(year)\n",
    "                worker_data = pd.concat([worker_data, data], ignore_index=True) \n",
    "                print(f\"Data for year {year} fetched successfully.\")\n",
    "                print(f\"Size of worker data: {worker_data.shape}\")\n",
    "                print(f\"Size of data after concatenation: {data.shape}\")\n",
    "            else:\n",
    "                print(f\"Error fetching data for year {year}: Status code {response.status_code}\")\n",
    "        industry_worker_type = pd.concat([industry_worker_type, worker_data], ignore_index=True)\n",
    "        print(f\"Size of combined data: {industry_worker_type.shape}\")\n",
    "    except Exception as e:\n",
    "        print(f'Error fetching data for number of works by worker type {worker_type_list[worker_index]}: {e}')\n",
    "print(industry_worker_type)"
   ]
  },
  {
   "cell_type": "code",
   "execution_count": null,
   "metadata": {},
   "outputs": [],
   "source": [
    "industry_worker_type"
   ]
  }
 ],
 "metadata": {
  "kernelspec": {
   "display_name": "Python 3",
   "language": "python",
   "name": "python3"
  },
  "language_info": {
   "codemirror_mode": {
    "name": "ipython",
    "version": 3
   },
   "file_extension": ".py",
   "mimetype": "text/x-python",
   "name": "python",
   "nbconvert_exporter": "python",
   "pygments_lexer": "ipython3",
   "version": "3.12.0"
  }
 },
 "nbformat": 4,
 "nbformat_minor": 2
}
